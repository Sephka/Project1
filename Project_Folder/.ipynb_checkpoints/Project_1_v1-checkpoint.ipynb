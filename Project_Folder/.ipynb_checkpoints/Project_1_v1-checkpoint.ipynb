{
 "cells": [
  {
   "cell_type": "code",
   "execution_count": 1,
   "metadata": {},
   "outputs": [
    {
     "ename": "ModuleNotFoundError",
     "evalue": "No module named 'stats'",
     "output_type": "error",
     "traceback": [
      "\u001b[1;31m---------------------------------------------------------------------------\u001b[0m",
      "\u001b[1;31mModuleNotFoundError\u001b[0m                       Traceback (most recent call last)",
      "\u001b[1;32m<ipython-input-1-50d938376857>\u001b[0m in \u001b[0;36m<module>\u001b[1;34m\u001b[0m\n\u001b[0;32m     10\u001b[0m \u001b[1;32mimport\u001b[0m \u001b[0mnumpy\u001b[0m \u001b[1;32mas\u001b[0m \u001b[0mnp\u001b[0m\u001b[1;33m\u001b[0m\u001b[1;33m\u001b[0m\u001b[0m\n\u001b[0;32m     11\u001b[0m \u001b[1;32mimport\u001b[0m \u001b[0mmatplotlib\u001b[0m\u001b[1;33m.\u001b[0m\u001b[0mpyplot\u001b[0m \u001b[1;32mas\u001b[0m \u001b[0mplt\u001b[0m\u001b[1;33m\u001b[0m\u001b[1;33m\u001b[0m\u001b[0m\n\u001b[1;32m---> 12\u001b[1;33m \u001b[1;32mfrom\u001b[0m \u001b[0mstats\u001b[0m \u001b[1;32mimport\u001b[0m \u001b[0mmean\u001b[0m\u001b[1;33m,\u001b[0m \u001b[0mmedian\u001b[0m\u001b[1;33m,\u001b[0m \u001b[0mmode\u001b[0m\u001b[1;33m,\u001b[0m \u001b[0mmulti_mode\u001b[0m\u001b[1;33m\u001b[0m\u001b[1;33m\u001b[0m\u001b[0m\n\u001b[0m",
      "\u001b[1;31mModuleNotFoundError\u001b[0m: No module named 'stats'"
     ]
    }
   ],
   "source": [
    "# Dependencies\n",
    "import pandas as pd\n",
    "import numpy as np\n",
    "import requests\n",
    "import json\n",
    "import io\n",
    "import csv\n",
    "from pandas.io.json import json_normalize\n",
    "import pandas as pd\n",
    "import numpy as np\n",
    "import matplotlib.pyplot as plt\n",
    "from stats import mean, median, mode, multi_mode"
   ]
  },
  {
   "cell_type": "code",
   "execution_count": null,
   "metadata": {},
   "outputs": [],
   "source": [
    "url = \"https://opendata.arcgis.com/datasets/8070cd333824453abea19e8faa340fb8_0.geojson\"\n",
    "response = requests.get(url).json()\n",
    "\n",
    "with open('lightrail_data.txt', 'w') as outfile:\n",
    "   json.dump(response, outfile)\n",
    "with open('lightrail_data.txt') as rail_file:\n",
    "   dict_rail = json.load(rail_file)\n",
    "\n",
    "rail_data = pd.DataFrame.from_dict(json_normalize(dict_rail['features']), orient='columns')\n",
    "rail_data.head()"
   ]
  },
  {
   "cell_type": "code",
   "execution_count": null,
   "metadata": {
    "scrolled": true
   },
   "outputs": [],
   "source": [
    "# Reorganizing the columns using double brackets\n",
    "organized_rail_df = rail_data[['properties.StationName', \n",
    "                               'properties.Q2015_1', \n",
    "                               'properties.Q2015_2', \n",
    "                               'properties.Q2015_3', \n",
    "                               'properties.Q2015_4', \n",
    "                               'properties.Q2016_1',\n",
    "                               'properties.Q2016_2',\n",
    "                               'properties.Q2106_3',\n",
    "                               'properties.Q2016_4',\n",
    "                               'properties.Q2017_1',\n",
    "                               'properties.Q2017_2',\n",
    "                               'properties.Q2017_3',\n",
    "                               'properties.Q2017_4',\n",
    "                               'properties.Q2018_1',\n",
    "                               'geometry.coordinates', \n",
    "                               'properties.Jurisdiction',\n",
    "                               'properties.Type']]\n",
    "organized_rail_df.head()"
   ]
  },
  {
   "cell_type": "code",
   "execution_count": null,
   "metadata": {},
   "outputs": [],
   "source": [
    "renamed_rail_df = organized_rail_df.rename(columns={'properties.StationName': 'Station Name', \n",
    "                                               'properties.Q2015_1': '2015 Q1', \n",
    "                                               'properties.Q2015_2': '2015 Q2', \n",
    "                                               'properties.Q2015_3': '2015 Q3', \n",
    "                                               'properties.Q2015_4': '2015 Q4', \n",
    "                                               'properties.Q2016_1': '2016 Q1',\n",
    "                                               'properties.Q2016_2': '2016 Q2',\n",
    "                                               'properties.Q2106_3': '2016 Q3',\n",
    "                                               'properties.Q2016_4': '2016 Q4',\n",
    "                                               'properties.Q2017_1': '2017 Q1',\n",
    "                                               'properties.Q2017_2': '2017 Q2',\n",
    "                                               'properties.Q2017_3': '2017 Q3',\n",
    "                                               'properties.Q2017_4': '2017 Q4',\n",
    "                                               'properties.Q2018_1': '2018 Q4',\n",
    "                                               'geometry.coordinates': 'Stop Locations', \n",
    "                                               'properties.Jurisdiction': 'Local Municipality',\n",
    "                                               'properties.Type': 'Eastbound or Westbound'})\n",
    "renamed_rail_df.head()"
   ]
  },
  {
   "cell_type": "code",
   "execution_count": null,
   "metadata": {},
   "outputs": [],
   "source": [
    "# Replacing Boadrings and Departures with proper directional naming conventions\n",
    "renamed_rail_df.loc[:,'Eastbound or Westbound'] = renamed_rail_df['Eastbound or Westbound'].str.replace('Boardings', 'Eastbound').str.replace('Departures', 'Westbound')  \n",
    "renamed_rail_df"
   ]
  },
  {
   "cell_type": "code",
   "execution_count": null,
   "metadata": {},
   "outputs": [],
   "source": [
    "# Removing brackets from geometry.coordinates, splitting into lat/lon columns\n",
    "renamed_rail_df['Locations'] = renamed_rail_df['Stop Locations'].astype(str).str.replace('\\[|\\]','')\n",
    "\n",
    "# # Creating lat/lon lists\n",
    "lat = []\n",
    "lon = []\n",
    "for row in renamed_rail_df['Locations']:\n",
    "   lat.append(row.split(',')[0])\n",
    "   lon.append(row.split(',')[1])\n",
    "    \n",
    "# appending lat and lon data to new columns in dataframe\n",
    "renamed_rail_df['Latitude'] = lat\n",
    "renamed_rail_df['Longitude'] = lon\n",
    "\n",
    "# Dropping unnecessary columns\n",
    "renamed_rail_df = renamed_rail_df.drop(columns=['Stop Locations', 'Locations'])\n",
    "renamed_rail_df.head()"
   ]
  },
  {
   "cell_type": "code",
   "execution_count": null,
   "metadata": {},
   "outputs": [],
   "source": [
    "# Which quarters do we see an increase in light rail riders from 2015 to 2017? \n"
   ]
  },
  {
   "cell_type": "code",
   "execution_count": null,
   "metadata": {},
   "outputs": [],
   "source": [
    "# Getting data from API, turning into json file\n",
    "url = \"https://municipal.systems/v1/places/az/dataTypes/shared-vehicle/data?key=f867b00f-7408-4c88-bd4d-ad4ef582b20c\"\n",
    "response2 = requests.get(url).json()\n",
    "# Creating a .txt file to be read into a dataframe\n",
    "with open('bike_data.txt', 'w') as outfile2:\n",
    "  json.dump(response2, outfile2)\n",
    "with open('bike_data.txt') as bike_file:\n",
    "  dict_bike = json.load(bike_file)\n",
    "# Turning json file into a readable dataframe\n",
    "bike_data = pd.DataFrame.from_dict(json_normalize(dict_bike['results']), orient='columns')\n",
    "\n",
    "# Creating editable dataframe, formatting column names\n",
    "bike_data_df = bike_data\n",
    "bike_data_df.columns = bike_data_df.columns.str.strip().str.lower().str.replace('data.','')\n",
    "\n",
    "# Dropping unnecessary columns\n",
    "bike_data_df = bike_data_df[['name','geometry.coordinates','operators']]\n",
    "\n",
    "# Removing brackets from operators values, then dropping JUMP LA rows\n",
    "bike_data_df.loc[:,'operators'] = bike_data_df['operators'].str.get(0)\n",
    "bike_data_df = bike_data_df[bike_data_df.operators != 'JUMP LA']\n",
    "# Removing brackets from geometry.coordinates, splitting into lat/lon columns\n",
    "bike_data_df['coordinates'] = bike_data_df['geometry.coordinates'].astype(str).str.replace('\\[|\\]','')\n",
    "\n",
    "# # Creating lat/lon lists\n",
    "lat = []\n",
    "lon = []\n",
    "for row in bike_data_df['coordinates']:\n",
    "   lat.append(row.split(',')[0])\n",
    "   lon.append(row.split(',')[1])\n",
    "    \n",
    "# appending lat and lon data to new columns in dataframe\n",
    "bike_data_df['latitude'] = lat\n",
    "bike_data_df['longitude'] = lon\n",
    "\n",
    "# Dropping unnecessary columns\n",
    "bike_data_df = bike_data_df[['name','operators','latitude','longitude']]\n",
    "bike_data_df.head()"
   ]
  },
  {
   "cell_type": "code",
   "execution_count": null,
   "metadata": {},
   "outputs": [],
   "source": []
  },
  {
   "cell_type": "code",
   "execution_count": null,
   "metadata": {},
   "outputs": [],
   "source": [
    "csv_bus_stops = \"https://raw.githubusercontent.com/Sephka/Project1/master/Project_Folder/phx_city_data/bus_stops\"\n",
    "bus_stops_df = pd.read_csv(csv_bus_stops, encoding=\"utf-8\")\n",
    "reduced_df = bus_stops_df[[\"stop_id\", \"stop_name\", \"stop_lat\", \"stop_lon\",\"district\"]]\n",
    "reduced_df.head()"
   ]
  },
  {
   "cell_type": "code",
   "execution_count": null,
   "metadata": {},
   "outputs": [],
   "source": [
    "# Street closure data\n",
    "csv_street_closures = \"https://raw.githubusercontent.com/Sephka/Project1/Kristen/Project1Data/traffic-restrictions_planned-street-restrictions-and-closures_trstreets_20190928.csv\"\n",
    "street_closures_df = pd.read_csv(csv_street_closures, encoding=\"utf-8\")\n",
    "street_closures_df.head()\n",
    "street_closures_df = street_closures_df[[\"LOCATION\", \"DATES\", \"CLOSURE TYPE\", \"PURPOSE\",]]\n",
    "street_closures_df = reduced_df.applymap(lambda s:s.lower() if type(s) == str else s)\n",
    "street_closures_df.columns = map(str.lower, reduced_df.columns)\n",
    "street_closures_df.columns = reduced_df.columns.str.replace(\" \",\"_\")\n",
    "street_closures_df.head()"
   ]
  },
  {
   "cell_type": "code",
   "execution_count": null,
   "metadata": {},
   "outputs": [],
   "source": [
    "# Intersection closure data\n",
    "csv_intersection_closures = \"https://raw.githubusercontent.com/Sephka/Project1/Kristen/Project1Data/traffic-restrictions_planned-intersection-restrictions-and-closures_trint_20190928.csv\"\n",
    "intersection_closures_df = pd.read_csv(csv_intersection_closures, encoding=\"utf-8\")\n",
    "intersection_closures_df.head()\n",
    "intersection_closures_df = intersection_closures_df[[\"LOCATION\", \"DATES\", \"CLOSURE TYPE\", \"PURPOSE\",]]\n",
    "intersection_closures_df = intersection_closures_df.applymap(lambda s:s.lower() if type(s) == str else s)\n",
    "intersection_closures_df.columns = map(str.lower,intersection_closures_df.columns)\n",
    "intersection_closures_df.columns = intersection_closures_df.columns.str.replace(\" \",\"_\")\n",
    "intersection_closures_df.head()"
   ]
  }
 ],
 "metadata": {
  "kernelspec": {
   "display_name": "Python 3",
   "language": "python",
   "name": "python3"
  },
  "language_info": {
   "codemirror_mode": {
    "name": "ipython",
    "version": 3
   },
   "file_extension": ".py",
   "mimetype": "text/x-python",
   "name": "python",
   "nbconvert_exporter": "python",
   "pygments_lexer": "ipython3",
   "version": "3.7.3"
  }
 },
 "nbformat": 4,
 "nbformat_minor": 2
}
