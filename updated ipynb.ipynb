{
 "cells": [
  {
   "cell_type": "code",
   "execution_count": 12,
   "metadata": {},
   "outputs": [
    {
     "ename": "ModuleNotFoundError",
     "evalue": "No module named 'stats'",
     "output_type": "error",
     "traceback": [
      "\u001b[1;31m---------------------------------------------------------------------------\u001b[0m",
      "\u001b[1;31mModuleNotFoundError\u001b[0m                       Traceback (most recent call last)",
      "\u001b[1;32m<ipython-input-12-c086ef453cbe>\u001b[0m in \u001b[0;36m<module>\u001b[1;34m\u001b[0m\n\u001b[0;32m      8\u001b[0m \u001b[1;32mfrom\u001b[0m \u001b[0mpandas\u001b[0m\u001b[1;33m.\u001b[0m\u001b[0mio\u001b[0m\u001b[1;33m.\u001b[0m\u001b[0mjson\u001b[0m \u001b[1;32mimport\u001b[0m \u001b[0mjson_normalize\u001b[0m\u001b[1;33m\u001b[0m\u001b[1;33m\u001b[0m\u001b[0m\n\u001b[0;32m      9\u001b[0m \u001b[1;32mimport\u001b[0m \u001b[0mmatplotlib\u001b[0m\u001b[1;33m.\u001b[0m\u001b[0mpyplot\u001b[0m \u001b[1;32mas\u001b[0m \u001b[0mplt\u001b[0m\u001b[1;33m\u001b[0m\u001b[1;33m\u001b[0m\u001b[0m\n\u001b[1;32m---> 10\u001b[1;33m \u001b[1;32mfrom\u001b[0m \u001b[0mstats\u001b[0m \u001b[1;32mimport\u001b[0m \u001b[0mmean\u001b[0m\u001b[1;33m,\u001b[0m \u001b[0mmedian\u001b[0m\u001b[1;33m,\u001b[0m \u001b[0mmode\u001b[0m\u001b[1;33m,\u001b[0m \u001b[0mmulti_mode\u001b[0m\u001b[1;33m\u001b[0m\u001b[1;33m\u001b[0m\u001b[0m\n\u001b[0m\u001b[0;32m     11\u001b[0m \u001b[1;32mimport\u001b[0m \u001b[0mwarnings\u001b[0m\u001b[1;33m\u001b[0m\u001b[1;33m\u001b[0m\u001b[0m\n\u001b[0;32m     12\u001b[0m \u001b[1;32mimport\u001b[0m \u001b[0mmatplotlib\u001b[0m\u001b[1;33m.\u001b[0m\u001b[0mcbook\u001b[0m\u001b[1;33m\u001b[0m\u001b[1;33m\u001b[0m\u001b[0m\n",
      "\u001b[1;31mModuleNotFoundError\u001b[0m: No module named 'stats'"
     ]
    }
   ],
   "source": [
    "# Dependencies\n",
    "import pandas as pd\n",
    "import numpy as np\n",
    "import requests\n",
    "import json\n",
    "import io\n",
    "import csv\n",
    "from pandas.io.json import json_normalize\n",
    "import matplotlib.pyplot as plt\n",
    "from stats import mean, median, mode, multi_mode\n",
    "import warnings\n",
    "import matplotlib.cbook\n",
    "from config import api_key"
   ]
  },
  {
   "cell_type": "code",
   "execution_count": null,
   "metadata": {},
   "outputs": [],
   "source": [
    "url = \"https://opendata.arcgis.com/datasets/8070cd333824453abea19e8faa340fb8_0.geojson\"\n",
    "response = requests.get(url).json()\n",
    "\n",
    "with open('lightrail_data.txt', 'w') as outfile:\n",
    "   json.dump(response, outfile)\n",
    "with open('lightrail_data.txt') as rail_file:\n",
    "   dict_rail = json.load(rail_file)\n",
    "\n",
    "rail_data = pd.DataFrame.from_dict(json_normalize(dict_rail['features']), orient='columns')\n",
    "# Reorganizing the columns using double brackets\n",
    "organized_rail_df = rail_data[['properties.StationName', \n",
    "                               'properties.Q2015_1', \n",
    "                               'properties.Q2015_2', \n",
    "                               'properties.Q2015_3', \n",
    "                               'properties.Q2015_4', \n",
    "                               'properties.Q2016_1',\n",
    "                               'properties.Q2016_2',\n",
    "                               'properties.Q2106_3',\n",
    "                               'properties.Q2016_4',\n",
    "                               'properties.Q2017_1',\n",
    "                               'properties.Q2017_2',\n",
    "                               'properties.Q2017_3',\n",
    "                               'properties.Q2017_4',\n",
    "                               'geometry.coordinates', \n",
    "                               'properties.Jurisdiction',\n",
    "                               'properties.Type']]"
   ]
  },
  {
   "cell_type": "code",
   "execution_count": null,
   "metadata": {},
   "outputs": [],
   "source": [
    "renamed_rail_df = organized_rail_df.rename(columns={'properties.StationName': 'Station Name', \n",
    "                                               'properties.Q2015_1': '2015 Q1', \n",
    "                                               'properties.Q2015_2': '2015 Q2', \n",
    "                                               'properties.Q2015_3': '2015 Q3', \n",
    "                                               'properties.Q2015_4': '2015 Q4', \n",
    "                                               'properties.Q2016_1': '2016 Q1',\n",
    "                                               'properties.Q2016_2': '2016 Q2',\n",
    "                                               'properties.Q2106_3': '2016 Q3',\n",
    "                                               'properties.Q2016_4': '2016 Q4',\n",
    "                                               'properties.Q2017_1': '2017 Q1',\n",
    "                                               'properties.Q2017_2': '2017 Q2',\n",
    "                                               'properties.Q2017_3': '2017 Q3',\n",
    "                                               'properties.Q2017_4': '2017 Q4',\n",
    "                                               'geometry.coordinates': 'Stop Locations', \n",
    "                                               'properties.Jurisdiction': 'Local Municipality',\n",
    "                                               'properties.Type': 'Eastbound or Westbound'})\n",
    "\n",
    "# Replacing Boardings and Departures with proper directional naming conventions\n",
    "renamed_rail_df.loc[:,'Eastbound or Westbound'] = renamed_rail_df['Eastbound or Westbound'].str.replace('Boardings', 'Eastbound').str.replace('Departures', 'Westbound')  "
   ]
  },
  {
   "cell_type": "code",
   "execution_count": null,
   "metadata": {},
   "outputs": [],
   "source": [
    "# Removing brackets from geometry.coordinates, splitting into lat/lon columns\n",
    "renamed_rail_df['Locations'] = renamed_rail_df['Stop Locations'].astype(str).str.replace('\\[|\\]','')\n",
    "\n",
    "# # Creating lat/lon lists\n",
    "lat = []\n",
    "lon = []\n",
    "for row in renamed_rail_df['Locations']:\n",
    "   lat.append(row.split(',')[1])\n",
    "   lon.append(row.split(',')[0])\n",
    "    \n",
    "# appending lat and lon data to new columns in dataframe\n",
    "renamed_rail_df['Latitude'] = lat\n",
    "renamed_rail_df['Longitude'] = lon\n",
    "\n",
    "# Dropping unnecessary columns\n",
    "renamed_rail_df = renamed_rail_df.drop(columns=['Stop Locations', 'Locations'])\n",
    "renamed_rail_df.head()"
   ]
  },
  {
   "cell_type": "code",
   "execution_count": null,
   "metadata": {},
   "outputs": [],
   "source": [
    "# What is light rail rider volume by quarter from 2015 to 2017?\n",
    "quarters = ['2015 Q1','2015 Q2','2015 Q3','2015 Q4','2016 Q1','2016 Q2',\n",
    "            '2016 Q3','2016 Q4','2017 Q1','2017 Q2','2017 Q3','2017 Q4',]\n",
    "\n",
    "passenger_volume = []\n",
    "\n",
    "passenger_volume.append(renamed_rail_df['2015 Q1'].sum())\n",
    "passenger_volume.append(renamed_rail_df['2015 Q2'].sum())\n",
    "passenger_volume.append(renamed_rail_df['2015 Q3'].sum())\n",
    "passenger_volume.append(renamed_rail_df['2015 Q4'].sum())\n",
    "passenger_volume.append(renamed_rail_df['2016 Q1'].sum())\n",
    "passenger_volume.append(renamed_rail_df['2016 Q2'].sum())\n",
    "passenger_volume.append(renamed_rail_df['2016 Q3'].sum())\n",
    "passenger_volume.append(renamed_rail_df['2016 Q4'].sum())\n",
    "passenger_volume.append(renamed_rail_df['2017 Q1'].sum())\n",
    "passenger_volume.append(renamed_rail_df['2017 Q2'].sum())\n",
    "passenger_volume.append(renamed_rail_df['2017 Q3'].sum())\n",
    "passenger_volume.append(renamed_rail_df['2017 Q4'].sum())\n",
    "passenger_volume\n",
    "quarterly_riders_df = pd.DataFrame(quarters , passenger_volume)\n",
    "\n",
    "quarter_totals = {'Quarters':quarters, 'Passenger Volume':passenger_volume}\n",
    "quarter_totals_df = pd.DataFrame(quarter_totals)\n",
    "quarter_totals_df"
   ]
  },
  {
   "cell_type": "code",
   "execution_count": null,
   "metadata": {
    "scrolled": true
   },
   "outputs": [],
   "source": [
    "warnings.filterwarnings(\"ignore\",category=matplotlib.cbook.mplDeprecation)\n",
    "x_pos = [i for i, _ in enumerate(quarters)]\n",
    "plt.xlim(60000, 97000)\n",
    "\n",
    "plt.barh(x_pos, passenger_volume, color='green')\n",
    "plt.ylabel('Quarters')\n",
    "plt.xlabel('Passenger Volume')\n",
    "plt.title('Riders per Quarter')\n",
    "ax = plt.axes()        \n",
    "ax.xaxis.grid(linestyle='--', linewidth='0.5', color='black')\n",
    "\n",
    "plt.yticks(x_pos, quarters)\n",
    "\n",
    "# Save the Figure\n",
    "plt.savefig('Riders per Quarter.png')"
   ]
  },
  {
   "cell_type": "code",
   "execution_count": null,
   "metadata": {},
   "outputs": [],
   "source": [
    "# What is the volume of riders between eastbound and westbound each year?\n",
    "renamed_rail_df['Annual Riders 2015']= renamed_rail_df.iloc[:, 1:5].sum(axis=1)\n",
    "renamed_rail_df['Annual Riders 2016']= renamed_rail_df.iloc[:, 5:9].sum(axis=1)\n",
    "renamed_rail_df['Annual Riders 2017']= renamed_rail_df.iloc[:, 9:13].sum(axis=1)\n",
    "east_versus_west_df = renamed_rail_df.loc[:, ['Eastbound or Westbound', 'Annual Riders 2015',\n",
    "                                              'Annual Riders 2016', 'Annual Riders 2017']]\n",
    "east_versus_west_df.head()"
   ]
  },
  {
   "cell_type": "code",
   "execution_count": null,
   "metadata": {},
   "outputs": [],
   "source": [
    "east_riders_15 = east_versus_west_df.loc[east_versus_west_df['Eastbound or Westbound'] == 'Eastbound', \n",
    "                                         'Annual Riders 2015'].sum()\n",
    "west_riders_15 = east_versus_west_df.loc[east_versus_west_df['Eastbound or Westbound'] == 'Westbound', \n",
    "                                         'Annual Riders 2015'].sum()\n",
    "east_riders_16 = east_versus_west_df.loc[east_versus_west_df['Eastbound or Westbound'] == 'Eastbound', \n",
    "                                         'Annual Riders 2016'].sum()\n",
    "west_riders_16 = east_versus_west_df.loc[east_versus_west_df['Eastbound or Westbound'] == 'Westbound', \n",
    "                                         'Annual Riders 2016'].sum()\n",
    "east_riders_17 = east_versus_west_df.loc[east_versus_west_df['Eastbound or Westbound'] == 'Eastbound', \n",
    "                                         'Annual Riders 2017'].sum()\n",
    "west_riders_17 = east_versus_west_df.loc[east_versus_west_df['Eastbound or Westbound'] == 'Westbound', \n",
    "                                         'Annual Riders 2017'].sum() \n",
    "\n",
    "riders_df = pd.DataFrame({'Annual Eastbound Riders 2015' : [east_riders_15],\n",
    "                          'Annual Westbound Riders 2015' : [west_riders_15],\n",
    "                          'Annual Eastbound Riders 2016' : [east_riders_16],\n",
    "                          'Annual Westbound Riders 2016' : [west_riders_16],\n",
    "                          'Annual Eastbound Riders 2017' : [east_riders_17],\n",
    "                          'Annual Westbound Riders 2017' : [west_riders_17],})\n",
    "riders_df"
   ]
  },
  {
   "cell_type": "code",
   "execution_count": null,
   "metadata": {},
   "outputs": [],
   "source": [
    "riders_df = pd.DataFrame({'':['Eastbound 2015', \n",
    "                                 'Westbound 2015', \n",
    "                                 'Eastbound 2016',\n",
    "                                 'Westbound 2016',\n",
    "                                 'Eastbound 2017',\n",
    "                                 'Westbound 2017'], \n",
    "                          'Total Riders':[east_riders_15,\n",
    "                                 west_riders_15,\n",
    "                                 east_riders_16,\n",
    "                                 west_riders_16,\n",
    "                                 east_riders_17,\n",
    "                                 west_riders_17]})\n",
    "ax = riders_df.plot.bar(x='', y='Total Riders', rot=45, color='orange', title ='Most Popular Direction')\n",
    "ax.yaxis.grid(linestyle='--', linewidth='0.3', color='black')\n",
    "ax.set_ylabel('Volume of Riders', fontsize=9)\n",
    "\n",
    "# Save the Figure\n",
    "plt.savefig('Most Popular Direction.png')"
   ]
  },
  {
   "cell_type": "code",
   "execution_count": 2,
   "metadata": {},
   "outputs": [
    {
     "ename": "NameError",
     "evalue": "name 'renamed_rail_df' is not defined",
     "output_type": "error",
     "traceback": [
      "\u001b[1;31m---------------------------------------------------------------------------\u001b[0m",
      "\u001b[1;31mNameError\u001b[0m                                 Traceback (most recent call last)",
      "\u001b[1;32m<ipython-input-2-dceb4c04b515>\u001b[0m in \u001b[0;36m<module>\u001b[1;34m\u001b[0m\n\u001b[0;32m      8\u001b[0m \u001b[0mpd\u001b[0m\u001b[1;33m.\u001b[0m\u001b[0moptions\u001b[0m\u001b[1;33m.\u001b[0m\u001b[0mmode\u001b[0m\u001b[1;33m.\u001b[0m\u001b[0mchained_assignment\u001b[0m \u001b[1;33m=\u001b[0m \u001b[1;32mNone\u001b[0m  \u001b[1;31m# default='warn'\u001b[0m\u001b[1;33m\u001b[0m\u001b[1;33m\u001b[0m\u001b[0m\n\u001b[0;32m      9\u001b[0m \u001b[1;33m\u001b[0m\u001b[0m\n\u001b[1;32m---> 10\u001b[1;33m \u001b[0mannual_riders_15_df\u001b[0m \u001b[1;33m=\u001b[0m \u001b[0mrenamed_rail_df\u001b[0m\u001b[1;33m[\u001b[0m\u001b[1;33m[\u001b[0m\u001b[1;34m'Station Name'\u001b[0m\u001b[1;33m,\u001b[0m \u001b[1;34m'Annual Riders 2015'\u001b[0m\u001b[1;33m,\u001b[0m \u001b[1;34m'Eastbound or Westbound'\u001b[0m\u001b[1;33m]\u001b[0m\u001b[1;33m]\u001b[0m\u001b[1;33m\u001b[0m\u001b[1;33m\u001b[0m\u001b[0m\n\u001b[0m\u001b[0;32m     11\u001b[0m \u001b[0mannual_riders_16_df\u001b[0m \u001b[1;33m=\u001b[0m \u001b[0mrenamed_rail_df\u001b[0m\u001b[1;33m[\u001b[0m\u001b[1;33m[\u001b[0m\u001b[1;34m'Station Name'\u001b[0m\u001b[1;33m,\u001b[0m \u001b[1;34m'Annual Riders 2016'\u001b[0m\u001b[1;33m,\u001b[0m \u001b[1;34m'Eastbound or Westbound'\u001b[0m\u001b[1;33m]\u001b[0m\u001b[1;33m]\u001b[0m\u001b[1;33m\u001b[0m\u001b[1;33m\u001b[0m\u001b[0m\n\u001b[0;32m     12\u001b[0m \u001b[0mannual_riders_17_df\u001b[0m \u001b[1;33m=\u001b[0m \u001b[0mrenamed_rail_df\u001b[0m\u001b[1;33m[\u001b[0m\u001b[1;33m[\u001b[0m\u001b[1;34m'Station Name'\u001b[0m\u001b[1;33m,\u001b[0m \u001b[1;34m'Annual Riders 2017'\u001b[0m\u001b[1;33m,\u001b[0m \u001b[1;34m'Eastbound or Westbound'\u001b[0m\u001b[1;33m]\u001b[0m\u001b[1;33m]\u001b[0m\u001b[1;33m\u001b[0m\u001b[1;33m\u001b[0m\u001b[0m\n",
      "\u001b[1;31mNameError\u001b[0m: name 'renamed_rail_df' is not defined"
     ]
    }
   ],
   "source": [
    "# What are the busiest light rail locations annually?\n",
    "\n",
    "# Inserting error removal, the below .loc line provides a \"warning\" that is\n",
    "# a false positive, the data is still correct and what we are looking for\n",
    "# See http://pandas.pydata.org/pandas-docs/stable/user_guide/indexing.html#returning-a-view-versus-a-copy\n",
    "# and https://stackoverflow.com/questions/20625582/how-to-deal-with-settingwithcopywarning-in-pandas\n",
    "# For further information\n",
    "pd.options.mode.chained_assignment = None  # default='warn'\n",
    "\n",
    "annual_riders_15_df = renamed_rail_df[['Station Name', 'Annual Riders 2015', 'Eastbound or Westbound']]\n",
    "annual_riders_16_df = renamed_rail_df[['Station Name', 'Annual Riders 2016', 'Eastbound or Westbound']]\n",
    "annual_riders_17_df = renamed_rail_df[['Station Name', 'Annual Riders 2017', 'Eastbound or Westbound']]\n",
    "\n",
    "annual_riders_15_df.loc[:,'Station Name and Direction'] = annual_riders_15_df['Station Name'] + \" \" + annual_riders_15_df['Eastbound or Westbound']\n",
    "top_stations_15_df = annual_riders_15_df.nlargest(5, 'Annual Riders 2015')\n",
    "top_stations_15_df\n",
    "ax = top_stations_15_df.plot(kind='barh', x='Station Name and Direction', y='Annual Riders 2015', color='red', title='Most Popular Stations 2015')\n",
    "ax.xaxis.grid(linestyle='--', linewidth='0.3', color='black')\n",
    "ax.set_xlabel('Number of riders in 2015')\n",
    "\n",
    "# Save the Figure\n",
    "plt.savefig('Most Popular Stations 2015.png')"
   ]
  },
  {
   "cell_type": "code",
   "execution_count": 3,
   "metadata": {},
   "outputs": [
    {
     "ename": "NameError",
     "evalue": "name 'annual_riders_16_df' is not defined",
     "output_type": "error",
     "traceback": [
      "\u001b[1;31m---------------------------------------------------------------------------\u001b[0m",
      "\u001b[1;31mNameError\u001b[0m                                 Traceback (most recent call last)",
      "\u001b[1;32m<ipython-input-3-0ba3861f6bc1>\u001b[0m in \u001b[0;36m<module>\u001b[1;34m\u001b[0m\n\u001b[1;32m----> 1\u001b[1;33m \u001b[0mannual_riders_16_df\u001b[0m\u001b[1;33m.\u001b[0m\u001b[0mloc\u001b[0m\u001b[1;33m[\u001b[0m\u001b[1;33m:\u001b[0m\u001b[1;33m,\u001b[0m\u001b[1;34m'Station Name and Direction'\u001b[0m\u001b[1;33m]\u001b[0m \u001b[1;33m=\u001b[0m \u001b[0mannual_riders_16_df\u001b[0m\u001b[1;33m[\u001b[0m\u001b[1;34m'Station Name'\u001b[0m\u001b[1;33m]\u001b[0m \u001b[1;33m+\u001b[0m \u001b[1;34m\" \"\u001b[0m \u001b[1;33m+\u001b[0m \u001b[0mannual_riders_16_df\u001b[0m\u001b[1;33m[\u001b[0m\u001b[1;34m'Eastbound or Westbound'\u001b[0m\u001b[1;33m]\u001b[0m\u001b[1;33m\u001b[0m\u001b[1;33m\u001b[0m\u001b[0m\n\u001b[0m\u001b[0;32m      2\u001b[0m \u001b[0mtop_stations_16_df\u001b[0m \u001b[1;33m=\u001b[0m \u001b[0mannual_riders_16_df\u001b[0m\u001b[1;33m.\u001b[0m\u001b[0mnlargest\u001b[0m\u001b[1;33m(\u001b[0m\u001b[1;36m5\u001b[0m\u001b[1;33m,\u001b[0m \u001b[1;34m'Annual Riders 2016'\u001b[0m\u001b[1;33m)\u001b[0m\u001b[1;33m\u001b[0m\u001b[1;33m\u001b[0m\u001b[0m\n\u001b[0;32m      3\u001b[0m \u001b[0mtop_stations_16_df\u001b[0m\u001b[1;33m\u001b[0m\u001b[1;33m\u001b[0m\u001b[0m\n\u001b[0;32m      4\u001b[0m \u001b[0max\u001b[0m \u001b[1;33m=\u001b[0m \u001b[0mtop_stations_16_df\u001b[0m\u001b[1;33m.\u001b[0m\u001b[0mplot\u001b[0m\u001b[1;33m(\u001b[0m\u001b[0mkind\u001b[0m\u001b[1;33m=\u001b[0m\u001b[1;34m'barh'\u001b[0m\u001b[1;33m,\u001b[0m \u001b[0mx\u001b[0m\u001b[1;33m=\u001b[0m\u001b[1;34m'Station Name and Direction'\u001b[0m\u001b[1;33m,\u001b[0m \u001b[0my\u001b[0m\u001b[1;33m=\u001b[0m\u001b[1;34m'Annual Riders 2016'\u001b[0m\u001b[1;33m,\u001b[0m \u001b[0mcolor\u001b[0m\u001b[1;33m=\u001b[0m\u001b[1;34m'green'\u001b[0m\u001b[1;33m,\u001b[0m \u001b[0mtitle\u001b[0m\u001b[1;33m=\u001b[0m\u001b[1;34m'Most Popular Stations 2016'\u001b[0m\u001b[1;33m)\u001b[0m\u001b[1;33m\u001b[0m\u001b[1;33m\u001b[0m\u001b[0m\n\u001b[0;32m      5\u001b[0m \u001b[0max\u001b[0m\u001b[1;33m.\u001b[0m\u001b[0mxaxis\u001b[0m\u001b[1;33m.\u001b[0m\u001b[0mgrid\u001b[0m\u001b[1;33m(\u001b[0m\u001b[0mlinestyle\u001b[0m\u001b[1;33m=\u001b[0m\u001b[1;34m'--'\u001b[0m\u001b[1;33m,\u001b[0m \u001b[0mlinewidth\u001b[0m\u001b[1;33m=\u001b[0m\u001b[1;34m'0.3'\u001b[0m\u001b[1;33m,\u001b[0m \u001b[0mcolor\u001b[0m\u001b[1;33m=\u001b[0m\u001b[1;34m'black'\u001b[0m\u001b[1;33m)\u001b[0m\u001b[1;33m\u001b[0m\u001b[1;33m\u001b[0m\u001b[0m\n",
      "\u001b[1;31mNameError\u001b[0m: name 'annual_riders_16_df' is not defined"
     ]
    }
   ],
   "source": [
    "annual_riders_16_df.loc[:,'Station Name and Direction'] = annual_riders_16_df['Station Name'] + \" \" + annual_riders_16_df['Eastbound or Westbound']\n",
    "top_stations_16_df = annual_riders_16_df.nlargest(5, 'Annual Riders 2016')\n",
    "top_stations_16_df\n",
    "ax = top_stations_16_df.plot(kind='barh', x='Station Name and Direction', y='Annual Riders 2016', color='green', title='Most Popular Stations 2016')\n",
    "ax.xaxis.grid(linestyle='--', linewidth='0.3', color='black')\n",
    "ax.set_xlabel('Number of riders in 2016')\n",
    "\n",
    "# Save the Figure\n",
    "plt.savefig('Most Popular Stations 2016.png')"
   ]
  },
  {
   "cell_type": "code",
   "execution_count": 4,
   "metadata": {},
   "outputs": [
    {
     "ename": "NameError",
     "evalue": "name 'annual_riders_17_df' is not defined",
     "output_type": "error",
     "traceback": [
      "\u001b[1;31m---------------------------------------------------------------------------\u001b[0m",
      "\u001b[1;31mNameError\u001b[0m                                 Traceback (most recent call last)",
      "\u001b[1;32m<ipython-input-4-cb0560272404>\u001b[0m in \u001b[0;36m<module>\u001b[1;34m\u001b[0m\n\u001b[1;32m----> 1\u001b[1;33m \u001b[0mannual_riders_17_df\u001b[0m\u001b[1;33m.\u001b[0m\u001b[0mloc\u001b[0m\u001b[1;33m[\u001b[0m\u001b[1;33m:\u001b[0m\u001b[1;33m,\u001b[0m\u001b[1;34m'Station Name and Direction'\u001b[0m\u001b[1;33m]\u001b[0m \u001b[1;33m=\u001b[0m \u001b[0mannual_riders_17_df\u001b[0m\u001b[1;33m[\u001b[0m\u001b[1;34m'Station Name'\u001b[0m\u001b[1;33m]\u001b[0m \u001b[1;33m+\u001b[0m \u001b[1;34m\" \"\u001b[0m \u001b[1;33m+\u001b[0m \u001b[0mannual_riders_17_df\u001b[0m\u001b[1;33m[\u001b[0m\u001b[1;34m'Eastbound or Westbound'\u001b[0m\u001b[1;33m]\u001b[0m\u001b[1;33m\u001b[0m\u001b[1;33m\u001b[0m\u001b[0m\n\u001b[0m\u001b[0;32m      2\u001b[0m \u001b[0mtop_stations_17_df\u001b[0m \u001b[1;33m=\u001b[0m \u001b[0mannual_riders_17_df\u001b[0m\u001b[1;33m.\u001b[0m\u001b[0mnlargest\u001b[0m\u001b[1;33m(\u001b[0m\u001b[1;36m5\u001b[0m\u001b[1;33m,\u001b[0m \u001b[1;34m'Annual Riders 2017'\u001b[0m\u001b[1;33m)\u001b[0m\u001b[1;33m\u001b[0m\u001b[1;33m\u001b[0m\u001b[0m\n\u001b[0;32m      3\u001b[0m \u001b[0mtop_stations_17_df\u001b[0m\u001b[1;33m\u001b[0m\u001b[1;33m\u001b[0m\u001b[0m\n\u001b[0;32m      4\u001b[0m \u001b[0max\u001b[0m \u001b[1;33m=\u001b[0m \u001b[0mtop_stations_17_df\u001b[0m\u001b[1;33m.\u001b[0m\u001b[0mplot\u001b[0m\u001b[1;33m(\u001b[0m\u001b[0mkind\u001b[0m\u001b[1;33m=\u001b[0m\u001b[1;34m'barh'\u001b[0m\u001b[1;33m,\u001b[0m \u001b[0mx\u001b[0m\u001b[1;33m=\u001b[0m\u001b[1;34m'Station Name and Direction'\u001b[0m\u001b[1;33m,\u001b[0m \u001b[0my\u001b[0m\u001b[1;33m=\u001b[0m\u001b[1;34m'Annual Riders 2017'\u001b[0m\u001b[1;33m,\u001b[0m \u001b[0mcolor\u001b[0m\u001b[1;33m=\u001b[0m\u001b[1;34m'blue'\u001b[0m\u001b[1;33m,\u001b[0m \u001b[0mtitle\u001b[0m\u001b[1;33m=\u001b[0m\u001b[1;34m'Most Popular Stations 2017'\u001b[0m\u001b[1;33m)\u001b[0m\u001b[1;33m\u001b[0m\u001b[1;33m\u001b[0m\u001b[0m\n\u001b[0;32m      5\u001b[0m \u001b[0max\u001b[0m\u001b[1;33m.\u001b[0m\u001b[0mxaxis\u001b[0m\u001b[1;33m.\u001b[0m\u001b[0mgrid\u001b[0m\u001b[1;33m(\u001b[0m\u001b[0mlinestyle\u001b[0m\u001b[1;33m=\u001b[0m\u001b[1;34m'--'\u001b[0m\u001b[1;33m,\u001b[0m \u001b[0mlinewidth\u001b[0m\u001b[1;33m=\u001b[0m\u001b[1;34m'0.3'\u001b[0m\u001b[1;33m,\u001b[0m \u001b[0mcolor\u001b[0m\u001b[1;33m=\u001b[0m\u001b[1;34m'black'\u001b[0m\u001b[1;33m)\u001b[0m\u001b[1;33m\u001b[0m\u001b[1;33m\u001b[0m\u001b[0m\n",
      "\u001b[1;31mNameError\u001b[0m: name 'annual_riders_17_df' is not defined"
     ]
    }
   ],
   "source": [
    "annual_riders_17_df.loc[:,'Station Name and Direction'] = annual_riders_17_df['Station Name'] + \" \" + annual_riders_17_df['Eastbound or Westbound']\n",
    "top_stations_17_df = annual_riders_17_df.nlargest(5, 'Annual Riders 2017')\n",
    "top_stations_17_df\n",
    "ax = top_stations_17_df.plot(kind='barh', x='Station Name and Direction', y='Annual Riders 2017', color='blue', title='Most Popular Stations 2017')\n",
    "ax.xaxis.grid(linestyle='--', linewidth='0.3', color='black')\n",
    "ax.set_xlabel('Number of riders in 2017')\n",
    "\n",
    "# Save the Figure\n",
    "plt.savefig('Most Popular Stations 2017.png')"
   ]
  },
  {
   "cell_type": "code",
   "execution_count": 5,
   "metadata": {},
   "outputs": [
    {
     "data": {
      "text/html": [
       "<div>\n",
       "<style scoped>\n",
       "    .dataframe tbody tr th:only-of-type {\n",
       "        vertical-align: middle;\n",
       "    }\n",
       "\n",
       "    .dataframe tbody tr th {\n",
       "        vertical-align: top;\n",
       "    }\n",
       "\n",
       "    .dataframe thead th {\n",
       "        text-align: right;\n",
       "    }\n",
       "</style>\n",
       "<table border=\"1\" class=\"dataframe\">\n",
       "  <thead>\n",
       "    <tr style=\"text-align: right;\">\n",
       "      <th></th>\n",
       "      <th>Transit Options</th>\n",
       "      <th>Prices</th>\n",
       "    </tr>\n",
       "  </thead>\n",
       "  <tbody>\n",
       "    <tr>\n",
       "      <th>0</th>\n",
       "      <td>One Way Pass</td>\n",
       "      <td>2</td>\n",
       "    </tr>\n",
       "    <tr>\n",
       "      <th>1</th>\n",
       "      <td>All Day Pass</td>\n",
       "      <td>4</td>\n",
       "    </tr>\n",
       "    <tr>\n",
       "      <th>2</th>\n",
       "      <td>Bike Cost</td>\n",
       "      <td>7.20</td>\n",
       "    </tr>\n",
       "  </tbody>\n",
       "</table>\n",
       "</div>"
      ],
      "text/plain": [
       "  Transit Options Prices\n",
       "0    One Way Pass      2\n",
       "1    All Day Pass      4\n",
       "2       Bike Cost   7.20"
      ]
     },
     "execution_count": 5,
     "metadata": {},
     "output_type": "execute_result"
    }
   ],
   "source": [
    "# What is the cost of riding the light rail versus using a Grid bike? \n",
    "# (light rail one way $2/$4 all day)   \n",
    "# (Grid bike .12c per min/$7 deposit required {*First hr. covered}\n",
    "cost_comparison_df = pd.DataFrame({'Transit Options':['One Way Pass', 'All Day Pass', 'Bike Cost'],\n",
    "                                   'Prices':['2', '4', '7.20']})\n",
    "cost_comparison_df"
   ]
  },
  {
   "cell_type": "code",
   "execution_count": 6,
   "metadata": {},
   "outputs": [
    {
     "data": {
      "image/png": "[encoded data removed]",
      "text/plain": [
       "<Figure size 360x360 with 1 Axes>"
      ]
     },
     "metadata": {
      "needs_background": "light"
     },
     "output_type": "display_data"
    }
   ],
   "source": [
    "cost_comparison_df.Prices = pd.to_numeric(cost_comparison_df.Prices)\n",
    "ax = cost_comparison_df.plot.bar(x='Transit Options', y='Prices', title ='Rider Fares', figsize=(5, 5), fontsize=9, rot=0)\n",
    "ax.set_xlabel('Transit Options', fontsize=9)\n",
    "ax.set_ylabel('Prices', fontsize=9)\n",
    "ax.yaxis.grid(linestyle='--', linewidth='0.5', color='black')\n",
    "\n",
    "# Save the Figure\n",
    "plt.savefig('Rider Fares.png')"
   ]
  },
  {
   "cell_type": "code",
   "execution_count": 15,
   "metadata": {},
   "outputs": [
    {
     "data": {
      "text/html": [
       "<div>\n",
       "<style scoped>\n",
       "    .dataframe tbody tr th:only-of-type {\n",
       "        vertical-align: middle;\n",
       "    }\n",
       "\n",
       "    .dataframe tbody tr th {\n",
       "        vertical-align: top;\n",
       "    }\n",
       "\n",
       "    .dataframe thead th {\n",
       "        text-align: right;\n",
       "    }\n",
       "</style>\n",
       "<table border=\"1\" class=\"dataframe\">\n",
       "  <thead>\n",
       "    <tr style=\"text-align: right;\">\n",
       "      <th></th>\n",
       "      <th>name</th>\n",
       "      <th>operators</th>\n",
       "      <th>latitude</th>\n",
       "      <th>longitude</th>\n",
       "      <th>latlng</th>\n",
       "    </tr>\n",
       "  </thead>\n",
       "  <tbody>\n",
       "    <tr>\n",
       "      <th>0</th>\n",
       "      <td>T759</td>\n",
       "      <td>Grid Bike Share</td>\n",
       "      <td>33.41814</td>\n",
       "      <td>-111.938395</td>\n",
       "      <td>33.41814,-111.938395</td>\n",
       "    </tr>\n",
       "    <tr>\n",
       "      <th>1</th>\n",
       "      <td>GRID 2220</td>\n",
       "      <td>Grid Bike Share</td>\n",
       "      <td>33.46572</td>\n",
       "      <td>-112.089135</td>\n",
       "      <td>33.46572,-112.089135</td>\n",
       "    </tr>\n",
       "    <tr>\n",
       "      <th>2</th>\n",
       "      <td>GRID 190</td>\n",
       "      <td>Grid Bike Share</td>\n",
       "      <td>33.465703</td>\n",
       "      <td>-112.089142</td>\n",
       "      <td>33.465703,-112.089142</td>\n",
       "    </tr>\n",
       "    <tr>\n",
       "      <th>4</th>\n",
       "      <td>GRID 254</td>\n",
       "      <td>Grid Bike Share</td>\n",
       "      <td>33.447542999999996</td>\n",
       "      <td>-112.10143</td>\n",
       "      <td>33.447542999999996,-112.10143</td>\n",
       "    </tr>\n",
       "    <tr>\n",
       "      <th>5</th>\n",
       "      <td>T990</td>\n",
       "      <td>Grid Bike Share</td>\n",
       "      <td>33.416872</td>\n",
       "      <td>-111.920858</td>\n",
       "      <td>33.416872,-111.920858</td>\n",
       "    </tr>\n",
       "  </tbody>\n",
       "</table>\n",
       "</div>"
      ],
      "text/plain": [
       "        name        operators             latitude    longitude  \\\n",
       "0       T759  Grid Bike Share             33.41814  -111.938395   \n",
       "1  GRID 2220  Grid Bike Share             33.46572  -112.089135   \n",
       "2   GRID 190  Grid Bike Share            33.465703  -112.089142   \n",
       "4   GRID 254  Grid Bike Share   33.447542999999996   -112.10143   \n",
       "5       T990  Grid Bike Share            33.416872  -111.920858   \n",
       "\n",
       "                          latlng  \n",
       "0           33.41814,-111.938395  \n",
       "1           33.46572,-112.089135  \n",
       "2          33.465703,-112.089142  \n",
       "4  33.447542999999996,-112.10143  \n",
       "5          33.416872,-111.920858  "
      ]
     },
     "execution_count": 15,
     "metadata": {},
     "output_type": "execute_result"
    }
   ],
   "source": [
    "# Getting data from API, turning into json file\n",
    "url = \"https://municipal.systems/v1/places/az/dataTypes/shared-vehicle/data?key=f867b00f-7408-4c88-bd4d-ad4ef582b20c\"\n",
    "response2 = requests.get(url).json()\n",
    "# Creating a .txt file to be read into a dataframe\n",
    "with open('bike_data.txt', 'w') as outfile2:\n",
    "    json.dump(response2, outfile2)\n",
    "with open('bike_data.txt') as bike_file:\n",
    "    dict_bike = json.load(bike_file)\n",
    "# Turning json file into a readable dataframe\n",
    "bike_data = pd.DataFrame.from_dict(json_normalize(dict_bike['results']), orient='columns')\n",
    "bike_data.head()\n",
    "# Creating editable dataframe, formatting column names\n",
    "bike_data_df = bike_data\n",
    "bike_data_df.columns = bike_data_df.columns.str.strip().str.lower().str.replace('data.','')\n",
    "# Dropping unnecessary columns\n",
    "bike_data_df = bike_data_df[['name','geometry.coordinates','operators',]]\n",
    "# Removing brackets from operators values, then dropping JUMP LA rows\n",
    "# Inserting error removal, the below .loc line provides a \"warning\" that is\n",
    "# a false positive, the data is still correct and what we are looking for\n",
    "# See http://pandas.pydata.org/pandas-docs/stable/user_guide/indexing.html#returning-a-view-versus-a-copy\n",
    "# and https://stackoverflow.com/questions/20625582/how-to-deal-with-settingwithcopywarning-in-pandas\n",
    "# For further information\n",
    "pd.options.mode.chained_assignment = None  # default='warn'\n",
    "bike_data_df.loc[:,'operators'] = bike_data_df['operators'].str.get(0)\n",
    "bike_data_df = bike_data_df[bike_data_df.operators != 'JUMP LA']\n",
    "# Removing brackets from geometry.coordinates, splitting into lat/lon columns\n",
    "bike_data_df['coordinates'] = bike_data_df['geometry.coordinates'].astype(str).str.replace('\\[|\\]','')\n",
    "# # # Creating lat/lon lists\n",
    "lat = []\n",
    "lon = []\n",
    "for row in bike_data_df['coordinates']:\n",
    " lat.append(row.split(',')[1])\n",
    " lon.append(row.split(',')[0])\n",
    "# appending lat and lon data to new columns in dataframe\n",
    "bike_data_df['latitude'] = lat\n",
    "bike_data_df['longitude'] = lon\n",
    "# # Dropping unnecessary columns\n",
    "bike_data_df = bike_data_df[['name','operators','latitude','longitude']]\n",
    "# Creating new column with combined lat/lon for future reverse geocode call\n",
    "bike_data_df['latlng'] = bike_data_df.apply(lambda row: '{},{}'.format(row['latitude'], row['longitude']), axis=1)\n",
    "bike_data_df['latlng'] = bike_data_df['latlng'].str.strip()\n",
    "bike_data_df.head()"
   ]
  },
  {
   "cell_type": "code",
   "execution_count": 16,
   "metadata": {},
   "outputs": [
    {
     "ename": "NameError",
     "evalue": "name 'api_key' is not defined",
     "output_type": "error",
     "traceback": [
      "\u001b[1;31m---------------------------------------------------------------------------\u001b[0m",
      "\u001b[1;31mNameError\u001b[0m                                 Traceback (most recent call last)",
      "\u001b[1;32m<ipython-input-16-43554b7d39b3>\u001b[0m in \u001b[0;36m<module>\u001b[1;34m\u001b[0m\n\u001b[0;32m     11\u001b[0m      \u001b[0mresult\u001b[0m \u001b[1;33m=\u001b[0m \u001b[0mdata\u001b[0m\u001b[1;33m[\u001b[0m\u001b[1;34m'results'\u001b[0m\u001b[1;33m]\u001b[0m\u001b[1;33m[\u001b[0m\u001b[1;36m0\u001b[0m\u001b[1;33m]\u001b[0m\u001b[1;33m\u001b[0m\u001b[1;33m\u001b[0m\u001b[0m\n\u001b[0;32m     12\u001b[0m  \u001b[1;32mreturn\u001b[0m \u001b[0mresult\u001b[0m\u001b[1;33m\u001b[0m\u001b[1;33m\u001b[0m\u001b[0m\n\u001b[1;32m---> 13\u001b[1;33m \u001b[0mbike_data_df\u001b[0m\u001b[1;33m[\u001b[0m\u001b[1;34m'geocode_data'\u001b[0m\u001b[1;33m]\u001b[0m \u001b[1;33m=\u001b[0m \u001b[0mbike_data_df\u001b[0m\u001b[1;33m[\u001b[0m\u001b[1;34m'latlng'\u001b[0m\u001b[1;33m]\u001b[0m\u001b[1;33m.\u001b[0m\u001b[0mmap\u001b[0m\u001b[1;33m(\u001b[0m\u001b[0mreverse_geocode\u001b[0m\u001b[1;33m)\u001b[0m\u001b[1;33m\u001b[0m\u001b[1;33m\u001b[0m\u001b[0m\n\u001b[0m\u001b[0;32m     14\u001b[0m \u001b[0mbike_data_df\u001b[0m\u001b[1;33m\u001b[0m\u001b[1;33m\u001b[0m\u001b[0m\n\u001b[0;32m     15\u001b[0m \u001b[1;33m\u001b[0m\u001b[0m\n",
      "\u001b[1;32m~\\Conda\\lib\\site-packages\\pandas\\core\\series.py\u001b[0m in \u001b[0;36mmap\u001b[1;34m(self, arg, na_action)\u001b[0m\n\u001b[0;32m   3380\u001b[0m         \"\"\"\n\u001b[0;32m   3381\u001b[0m         new_values = super(Series, self)._map_values(\n\u001b[1;32m-> 3382\u001b[1;33m             arg, na_action=na_action)\n\u001b[0m\u001b[0;32m   3383\u001b[0m         return self._constructor(new_values,\n\u001b[0;32m   3384\u001b[0m                                  index=self.index).__finalize__(self)\n",
      "\u001b[1;32m~\\Conda\\lib\\site-packages\\pandas\\core\\base.py\u001b[0m in \u001b[0;36m_map_values\u001b[1;34m(self, mapper, na_action)\u001b[0m\n\u001b[0;32m   1216\u001b[0m \u001b[1;33m\u001b[0m\u001b[0m\n\u001b[0;32m   1217\u001b[0m         \u001b[1;31m# mapper is a function\u001b[0m\u001b[1;33m\u001b[0m\u001b[1;33m\u001b[0m\u001b[1;33m\u001b[0m\u001b[0m\n\u001b[1;32m-> 1218\u001b[1;33m         \u001b[0mnew_values\u001b[0m \u001b[1;33m=\u001b[0m \u001b[0mmap_f\u001b[0m\u001b[1;33m(\u001b[0m\u001b[0mvalues\u001b[0m\u001b[1;33m,\u001b[0m \u001b[0mmapper\u001b[0m\u001b[1;33m)\u001b[0m\u001b[1;33m\u001b[0m\u001b[1;33m\u001b[0m\u001b[0m\n\u001b[0m\u001b[0;32m   1219\u001b[0m \u001b[1;33m\u001b[0m\u001b[0m\n\u001b[0;32m   1220\u001b[0m         \u001b[1;32mreturn\u001b[0m \u001b[0mnew_values\u001b[0m\u001b[1;33m\u001b[0m\u001b[1;33m\u001b[0m\u001b[0m\n",
      "\u001b[1;32mpandas/_libs/lib.pyx\u001b[0m in \u001b[0;36mpandas._libs.lib.map_infer\u001b[1;34m()\u001b[0m\n",
      "\u001b[1;32m<ipython-input-16-43554b7d39b3>\u001b[0m in \u001b[0;36mreverse_geocode\u001b[1;34m(latlng)\u001b[0m\n\u001b[0;32m      6\u001b[0m  \u001b[0murl\u001b[0m \u001b[1;33m=\u001b[0m \u001b[1;34m'https://maps.googleapis.com/maps/api/geocode/json?latlng={0}'\u001b[0m\u001b[1;33m\u001b[0m\u001b[1;33m\u001b[0m\u001b[0m\n\u001b[0;32m      7\u001b[0m  \u001b[0mrequest\u001b[0m \u001b[1;33m=\u001b[0m \u001b[0murl\u001b[0m\u001b[1;33m.\u001b[0m\u001b[0mformat\u001b[0m\u001b[1;33m(\u001b[0m\u001b[0mlatlng\u001b[0m\u001b[1;33m)\u001b[0m\u001b[1;33m\u001b[0m\u001b[1;33m\u001b[0m\u001b[0m\n\u001b[1;32m----> 8\u001b[1;33m  \u001b[0mapi_url\u001b[0m \u001b[1;33m=\u001b[0m \u001b[1;33m(\u001b[0m\u001b[0mrequest\u001b[0m \u001b[1;33m+\u001b[0m \u001b[1;34m'&key='\u001b[0m \u001b[1;33m+\u001b[0m \u001b[0mapi_key\u001b[0m\u001b[1;33m-\u001b[0m\u001b[0mYpsD8MFy2u8\u001b[0m\u001b[1;33m)\u001b[0m\u001b[1;33m\u001b[0m\u001b[1;33m\u001b[0m\u001b[0m\n\u001b[0m\u001b[0;32m      9\u001b[0m  \u001b[0mdata\u001b[0m \u001b[1;33m=\u001b[0m \u001b[0mrequests\u001b[0m\u001b[1;33m.\u001b[0m\u001b[0mget\u001b[0m\u001b[1;33m(\u001b[0m\u001b[0mapi_url\u001b[0m\u001b[1;33m)\u001b[0m\u001b[1;33m.\u001b[0m\u001b[0mjson\u001b[0m\u001b[1;33m(\u001b[0m\u001b[1;33m)\u001b[0m\u001b[1;33m\u001b[0m\u001b[1;33m\u001b[0m\u001b[0m\n\u001b[0;32m     10\u001b[0m  \u001b[1;32mif\u001b[0m \u001b[0mlen\u001b[0m\u001b[1;33m(\u001b[0m\u001b[0mdata\u001b[0m\u001b[1;33m[\u001b[0m\u001b[1;34m'results'\u001b[0m\u001b[1;33m]\u001b[0m\u001b[1;33m)\u001b[0m \u001b[1;33m>\u001b[0m \u001b[1;36m0\u001b[0m\u001b[1;33m:\u001b[0m\u001b[1;33m\u001b[0m\u001b[1;33m\u001b[0m\u001b[0m\n",
      "\u001b[1;31mNameError\u001b[0m: name 'api_key' is not defined"
     ]
    }
   ],
   "source": [
    "bike_data_df['geocode_data'] =''\n",
    "bike_data_df['city'] = ''\n",
    "bike_data_df['country'] = ''\n",
    "def reverse_geocode(latlng):\n",
    " result = {}\n",
    " url = 'https://maps.googleapis.com/maps/api/geocode/json?latlng={0}'\n",
    " request = url.format(latlng)\n",
    " api_url = (request + '&key=' + api_key-YpsD8MFy2u8)\n",
    " data = requests.get(api_url).json()\n",
    " if len(data['results']) > 0:\n",
    "     result = data['results'][0]\n",
    " return result\n",
    "bike_data_df['geocode_data'] = bike_data_df['latlng'].map(reverse_geocode)\n",
    "bike_data_df\n",
    "\n",
    "\n",
    "\n",
    "# identify municipality and country data in the json that google sent back\n",
    "def parse_city(geocode_data):\n",
    "  if (not geocode_data is None) and ('address_components' in geocode_data):\n",
    "      for component in geocode_data['address_components']:\n",
    "          if 'locality' in component['types']:\n",
    "              return component['long_name']\n",
    "          elif 'postal_town' in component['types']:\n",
    "              return component['long_name']\n",
    "          elif 'administrative_area_level_2' in component['types']:\n",
    "              return component['long_name']\n",
    "          elif 'administrative_area_level_1' in component['types']:\n",
    "              return component['long_name']\n",
    "  return None\n",
    "def parse_country(geocode_data):\n",
    "  if (not geocode_data is None) and ('address_components' in geocode_data):\n",
    "      for component in geocode_data['address_components']:\n",
    "          if 'country' in component['types']:\n",
    "              return component['long_name']\n",
    "  return None"
   ]
  },
  {
   "cell_type": "code",
   "execution_count": 17,
   "metadata": {},
   "outputs": [
    {
     "ename": "NameError",
     "evalue": "name 'parse_city' is not defined",
     "output_type": "error",
     "traceback": [
      "\u001b[1;31m---------------------------------------------------------------------------\u001b[0m",
      "\u001b[1;31mNameError\u001b[0m                                 Traceback (most recent call last)",
      "\u001b[1;32m<ipython-input-17-5b739e3fb603>\u001b[0m in \u001b[0;36m<module>\u001b[1;34m\u001b[0m\n\u001b[1;32m----> 1\u001b[1;33m \u001b[0mbike_data_df\u001b[0m\u001b[1;33m[\u001b[0m\u001b[1;34m'city'\u001b[0m\u001b[1;33m]\u001b[0m \u001b[1;33m=\u001b[0m \u001b[0mbike_data_df\u001b[0m\u001b[1;33m[\u001b[0m\u001b[1;34m'geocode_data'\u001b[0m\u001b[1;33m]\u001b[0m\u001b[1;33m.\u001b[0m\u001b[0mmap\u001b[0m\u001b[1;33m(\u001b[0m\u001b[0mparse_city\u001b[0m\u001b[1;33m)\u001b[0m\u001b[1;33m\u001b[0m\u001b[1;33m\u001b[0m\u001b[0m\n\u001b[0m\u001b[0;32m      2\u001b[0m \u001b[0mbike_data_df\u001b[0m\u001b[1;33m[\u001b[0m\u001b[1;34m'country'\u001b[0m\u001b[1;33m]\u001b[0m \u001b[1;33m=\u001b[0m \u001b[0mbike_data_df\u001b[0m\u001b[1;33m[\u001b[0m\u001b[1;34m'geocode_data'\u001b[0m\u001b[1;33m]\u001b[0m\u001b[1;33m.\u001b[0m\u001b[0mmap\u001b[0m\u001b[1;33m(\u001b[0m\u001b[0mparse_country\u001b[0m\u001b[1;33m)\u001b[0m\u001b[1;33m\u001b[0m\u001b[1;33m\u001b[0m\u001b[0m\n\u001b[0;32m      3\u001b[0m \u001b[0mprint\u001b[0m\u001b[1;33m(\u001b[0m\u001b[0mlen\u001b[0m\u001b[1;33m(\u001b[0m\u001b[0mbike_data_df\u001b[0m\u001b[1;33m)\u001b[0m\u001b[1;33m)\u001b[0m\u001b[1;33m\u001b[0m\u001b[1;33m\u001b[0m\u001b[0m\n\u001b[0;32m      4\u001b[0m \u001b[0mbike_data_df\u001b[0m\u001b[1;33m.\u001b[0m\u001b[0mhead\u001b[0m\u001b[1;33m(\u001b[0m\u001b[1;33m)\u001b[0m\u001b[1;33m\u001b[0m\u001b[1;33m\u001b[0m\u001b[0m\n",
      "\u001b[1;31mNameError\u001b[0m: name 'parse_city' is not defined"
     ]
    }
   ],
   "source": [
    "bike_data_df['city'] = bike_data_df['geocode_data'].map(parse_city)\n",
    "bike_data_df['country'] = bike_data_df['geocode_data'].map(parse_country)\n",
    "print(len(bike_data_df))\n",
    "bike_data_df.head()"
   ]
  }
 ],
 "metadata": {
  "kernelspec": {
   "display_name": "Python 3",
   "language": "python",
   "name": "python3"
  },
  "language_info": {
   "codemirror_mode": {
    "name": "ipython",
    "version": 3
   },
   "file_extension": ".py",
   "mimetype": "text/x-python",
   "name": "python",
   "nbconvert_exporter": "python",
   "pygments_lexer": "ipython3",
   "version": "3.7.3"
  }
 },
 "nbformat": 4,
 "nbformat_minor": 2
}
